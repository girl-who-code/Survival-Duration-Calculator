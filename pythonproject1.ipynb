{
 "cells": [
  {
   "cell_type": "code",
   "execution_count": 1,
   "id": "b1f5be14",
   "metadata": {},
   "outputs": [],
   "source": [
    "    # Project 2 :Survival Duration Calculator"
   ]
  },
  {
   "cell_type": "code",
   "execution_count": 2,
   "id": "3ad0d6d4",
   "metadata": {},
   "outputs": [
    {
     "name": "stdout",
     "output_type": "stream",
     "text": [
      "Enter the age in years: 23\n",
      "Enter the time units you want to see (Years, Months, Weeks, Days, Hours, Minutes, Seconds) separated by commas, or type 'all' to display all units: Years, Months, Weeks, Days, Hours, Minutes, Seconds\n",
      "  Time Unit      Duration\n",
      "0     Years  2.300000e+01\n",
      "1    Months  2.760000e+02\n",
      "2     Weeks  1.200082e+03\n",
      "3      Days  8.400750e+03\n",
      "4     Hours  2.016180e+05\n",
      "5   Minutes  1.209708e+07\n",
      "6   Seconds  7.258248e+08\n"
     ]
    }
   ],
   "source": [
    "import numpy as np\n",
    "import pandas as pd\n",
    "\n",
    "class AgeCalculator:\n",
    "    def __init__(self, age):\n",
    "        self.age = age\n",
    "\n",
    "    # Method to calculate the age in different time units\n",
    "    def calculate_duration(self):\n",
    "        age_months = self.age * 12\n",
    "        age_weeks = self.age * 52.1775  # Average weeks in a year\n",
    "        age_days = self.age * 365.25  # Accounting for leap years\n",
    "        age_hours = age_days * 24\n",
    "        age_minutes = age_hours * 60\n",
    "        age_seconds = age_minutes * 60\n",
    "\n",
    "        # Storing results in a dictionary\n",
    "        data = {\n",
    "            'Time Unit': ['Years', 'Months', 'Weeks', 'Days', 'Hours', 'Minutes', 'Seconds'],\n",
    "            'Duration': [self.age, age_months, age_weeks, age_days, age_hours, age_minutes, age_seconds]\n",
    "        }\n",
    "\n",
    "        # Creating a DataFrame from the dictionary\n",
    "        df = pd.DataFrame(data)\n",
    "        return df\n",
    "\n",
    "    # Method to display only the user-selected time units\n",
    "    def display_selected_units(self, selected_units):\n",
    "        # Get the full DataFrame with all time units\n",
    "        df = self.calculate_duration()\n",
    "\n",
    "        if 'all' in selected_units:\n",
    "            # Display all units if the user selects 'all'\n",
    "            return df\n",
    "        else:\n",
    "            # Filter the DataFrame based on the selected units\n",
    "            return df[df['Time Unit'].isin(selected_units)]\n",
    "\n",
    "# Main function  with the user\n",
    "def main():\n",
    "    try:\n",
    "        # Input: user's age\n",
    "        age = float(input(\"Enter the age in years: \"))\n",
    "\n",
    "        # Create an instance of the AgeCalculator class\n",
    "        age_calculator = AgeCalculator(age)\n",
    "\n",
    "        # Input:  user which time units to display\n",
    "        selected_units = input(\n",
    "            \"Enter the time units you want to see (Years, Months, Weeks, Days, Hours, Minutes, Seconds) separated by commas, or type 'all' to display all units: \"\n",
    "        ).split(',')\n",
    "\n",
    "        # Clean and format the input for units\n",
    "        selected_units = [unit.strip().capitalize() for unit in selected_units]\n",
    "\n",
    "        # Get the filtered DataFrame and display it\n",
    "        result_df = age_calculator.display_selected_units(selected_units)\n",
    "\n",
    "        # Display the result DataFrame\n",
    "        print(result_df)\n",
    "\n",
    "    except ValueError:\n",
    "        print(\"Please enter a valid number for the age.\")\n",
    "\n",
    "# Run the application\n",
    "if __name__ == \"__main__\":\n",
    "    main()\n"
   ]
  },
  {
   "cell_type": "code",
   "execution_count": null,
   "id": "10128d26",
   "metadata": {},
   "outputs": [],
   "source": []
  }
 ],
 "metadata": {
  "kernelspec": {
   "display_name": "Python 3 (ipykernel)",
   "language": "python",
   "name": "python3"
  },
  "language_info": {
   "codemirror_mode": {
    "name": "ipython",
    "version": 3
   },
   "file_extension": ".py",
   "mimetype": "text/x-python",
   "name": "python",
   "nbconvert_exporter": "python",
   "pygments_lexer": "ipython3",
   "version": "3.9.12"
  }
 },
 "nbformat": 4,
 "nbformat_minor": 5
}
